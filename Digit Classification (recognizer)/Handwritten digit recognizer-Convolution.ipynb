{
 "cells": [
  {
   "cell_type": "code",
   "execution_count": 1,
   "metadata": {},
   "outputs": [],
   "source": [
    "from keras.layers import Conv2D"
   ]
  },
  {
   "cell_type": "code",
   "execution_count": 2,
   "metadata": {},
   "outputs": [],
   "source": [
    "from keras.datasets import mnist\n",
    "from keras.models import Sequential\n",
    "from keras.layers import Dense \n",
    "import matplotlib.pyplot as plt"
   ]
  },
  {
   "cell_type": "code",
   "execution_count": 3,
   "metadata": {},
   "outputs": [],
   "source": [
    "from keras.datasets import mnist"
   ]
  },
  {
   "cell_type": "code",
   "execution_count": 4,
   "metadata": {},
   "outputs": [],
   "source": [
    "(X_train,Y_train),(X_test,Y_test)=mnist.load_data()"
   ]
  },
  {
   "cell_type": "code",
   "execution_count": 5,
   "metadata": {},
   "outputs": [],
   "source": [
    "from sklearn.model_selection import train_test_split"
   ]
  },
  {
   "cell_type": "code",
   "execution_count": 6,
   "metadata": {},
   "outputs": [],
   "source": [
    "X_train,X_val,Y_train,Y_val=train_test_split(X_train,Y_train,stratify=Y_train,test_size=0.08333,random_state=42)"
   ]
  },
  {
   "cell_type": "code",
   "execution_count": 7,
   "metadata": {},
   "outputs": [
    {
     "name": "stdout",
     "output_type": "stream",
     "text": [
      "train data shape:  (55000, 28, 28, 1)\n",
      "val data shape:  (5000, 28, 28, 1)\n",
      "test data shape:  (10000, 28, 28, 1)\n"
     ]
    }
   ],
   "source": [
    "X_train=X_train.reshape(-1,28,28,1)\n",
    "X_val=X_val.reshape(-1,28,28,1)\n",
    "X_test=X_test.reshape(-1,28,28,1)\n",
    "print('train data shape: ', X_train.shape)\n",
    "print('val data shape: ', X_val.shape)\n",
    "print('test data shape: ', X_test.shape)"
   ]
  },
  {
   "cell_type": "code",
   "execution_count": 8,
   "metadata": {},
   "outputs": [],
   "source": [
    "model=Sequential()"
   ]
  },
  {
   "cell_type": "code",
   "execution_count": 9,
   "metadata": {},
   "outputs": [],
   "source": [
    "model.add(Conv2D(32,kernel_size=(3,3),input_shape=(28,28,1),activation='relu'))"
   ]
  },
  {
   "cell_type": "code",
   "execution_count": 10,
   "metadata": {},
   "outputs": [],
   "source": [
    "from keras.layers import Flatten\n",
    "model.add(Flatten())"
   ]
  },
  {
   "cell_type": "code",
   "execution_count": 11,
   "metadata": {},
   "outputs": [],
   "source": [
    "model.add(Dense(128,activation='relu'))"
   ]
  },
  {
   "cell_type": "code",
   "execution_count": 12,
   "metadata": {},
   "outputs": [],
   "source": [
    "model.add(Dense(10,activation='softmax'))"
   ]
  },
  {
   "cell_type": "code",
   "execution_count": 25,
   "metadata": {},
   "outputs": [],
   "source": [
    "from tensorflow import keras"
   ]
  },
  {
   "cell_type": "code",
   "execution_count": 26,
   "metadata": {},
   "outputs": [
    {
     "name": "stdout",
     "output_type": "stream",
     "text": [
      "Requirement already satisfied: Adam in c:\\users\\asus\\anaconda3\\lib\\site-packages (0.0.0.dev0)\n",
      "Note: you may need to restart the kernel to use updated packages.\n"
     ]
    }
   ],
   "source": [
    "pip install Adam"
   ]
  },
  {
   "cell_type": "code",
   "execution_count": 27,
   "metadata": {},
   "outputs": [
    {
     "name": "stderr",
     "output_type": "stream",
     "text": [
      "C:\\Users\\asus\\anaconda3\\lib\\site-packages\\keras\\optimizer_v2\\adam.py:105: UserWarning: The `lr` argument is deprecated, use `learning_rate` instead.\n",
      "  super(Adam, self).__init__(name, **kwargs)\n"
     ]
    }
   ],
   "source": [
    "optimizer = keras.optimizers.Adam(lr=0.0001)"
   ]
  },
  {
   "cell_type": "code",
   "execution_count": 28,
   "metadata": {},
   "outputs": [],
   "source": [
    "model.compile(loss = 'sparse_categorical_crossentropy',optimizer = optimizer,metrics = ['accuracy'])"
   ]
  },
  {
   "cell_type": "code",
   "execution_count": 31,
   "metadata": {},
   "outputs": [
    {
     "name": "stdout",
     "output_type": "stream",
     "text": [
      "Model: \"sequential\"\n",
      "_________________________________________________________________\n",
      " Layer (type)                Output Shape              Param #   \n",
      "=================================================================\n",
      " conv2d (Conv2D)             (None, 26, 26, 32)        320       \n",
      "                                                                 \n",
      " flatten (Flatten)           (None, 21632)             0         \n",
      "                                                                 \n",
      " dense (Dense)               (None, 128)               2769024   \n",
      "                                                                 \n",
      " dense_1 (Dense)             (None, 10)                1290      \n",
      "                                                                 \n",
      "=================================================================\n",
      "Total params: 2,770,634\n",
      "Trainable params: 2,770,634\n",
      "Non-trainable params: 0\n",
      "_________________________________________________________________\n"
     ]
    }
   ],
   "source": [
    "model.summary()"
   ]
  },
  {
   "cell_type": "code",
   "execution_count": 34,
   "metadata": {},
   "outputs": [
    {
     "name": "stdout",
     "output_type": "stream",
     "text": [
      "Epoch 1/20\n",
      "430/430 [==============================] - 18s 40ms/step - loss: 0.7337 - accuracy: 0.8944 - val_loss: 0.2629 - val_accuracy: 0.9354\n",
      "Epoch 2/20\n",
      "430/430 [==============================] - 17s 39ms/step - loss: 0.1560 - accuracy: 0.9573 - val_loss: 0.1994 - val_accuracy: 0.9486\n",
      "Epoch 3/20\n",
      "430/430 [==============================] - 17s 38ms/step - loss: 0.0923 - accuracy: 0.9729 - val_loss: 0.2132 - val_accuracy: 0.9554\n",
      "Epoch 4/20\n",
      "430/430 [==============================] - 16s 38ms/step - loss: 0.0569 - accuracy: 0.9830 - val_loss: 0.1827 - val_accuracy: 0.9616\n",
      "Epoch 5/20\n",
      "430/430 [==============================] - 16s 38ms/step - loss: 0.0405 - accuracy: 0.9873 - val_loss: 0.1388 - val_accuracy: 0.9722\n",
      "Epoch 6/20\n",
      "430/430 [==============================] - 17s 39ms/step - loss: 0.0310 - accuracy: 0.9901 - val_loss: 0.1447 - val_accuracy: 0.9696\n",
      "Epoch 7/20\n",
      "430/430 [==============================] - 17s 39ms/step - loss: 0.0176 - accuracy: 0.9937 - val_loss: 0.1634 - val_accuracy: 0.9696\n",
      "Epoch 8/20\n",
      "430/430 [==============================] - 17s 39ms/step - loss: 0.0192 - accuracy: 0.9939 - val_loss: 0.1491 - val_accuracy: 0.9742\n",
      "Epoch 9/20\n",
      "430/430 [==============================] - 17s 39ms/step - loss: 0.0181 - accuracy: 0.9937 - val_loss: 0.1687 - val_accuracy: 0.9726\n",
      "Epoch 10/20\n",
      "430/430 [==============================] - 17s 40ms/step - loss: 0.0135 - accuracy: 0.9953 - val_loss: 0.1579 - val_accuracy: 0.9722\n",
      "Epoch 11/20\n",
      "430/430 [==============================] - 18s 41ms/step - loss: 0.0207 - accuracy: 0.9934 - val_loss: 0.1621 - val_accuracy: 0.9732\n",
      "Epoch 12/20\n",
      "430/430 [==============================] - 17s 40ms/step - loss: 0.0143 - accuracy: 0.9954 - val_loss: 0.1596 - val_accuracy: 0.9746\n",
      "Epoch 13/20\n",
      "430/430 [==============================] - 17s 40ms/step - loss: 0.0089 - accuracy: 0.9970 - val_loss: 0.1374 - val_accuracy: 0.9778\n",
      "Epoch 14/20\n",
      "430/430 [==============================] - 17s 40ms/step - loss: 0.0085 - accuracy: 0.9974 - val_loss: 0.1392 - val_accuracy: 0.9786\n",
      "Epoch 15/20\n",
      "430/430 [==============================] - 17s 40ms/step - loss: 0.0078 - accuracy: 0.9973 - val_loss: 0.1506 - val_accuracy: 0.9786\n",
      "Epoch 16/20\n",
      "430/430 [==============================] - 18s 41ms/step - loss: 0.0083 - accuracy: 0.9974 - val_loss: 0.1441 - val_accuracy: 0.9774\n",
      "Epoch 17/20\n",
      "430/430 [==============================] - 17s 40ms/step - loss: 0.0065 - accuracy: 0.9980 - val_loss: 0.1544 - val_accuracy: 0.9772\n",
      "Epoch 18/20\n",
      "430/430 [==============================] - 17s 39ms/step - loss: 0.0106 - accuracy: 0.9967 - val_loss: 0.1612 - val_accuracy: 0.9752\n",
      "Epoch 19/20\n",
      "430/430 [==============================] - 17s 40ms/step - loss: 0.0084 - accuracy: 0.9975 - val_loss: 0.1744 - val_accuracy: 0.9750\n",
      "Epoch 20/20\n",
      "430/430 [==============================] - 17s 41ms/step - loss: 0.0047 - accuracy: 0.9983 - val_loss: 0.1417 - val_accuracy: 0.9802\n"
     ]
    }
   ],
   "source": [
    "history = model.fit(X_train,Y_train,epochs=20,batch_size = 128,validation_data = (X_val,Y_val))"
   ]
  },
  {
   "cell_type": "code",
   "execution_count": 35,
   "metadata": {},
   "outputs": [
    {
     "name": "stdout",
     "output_type": "stream",
     "text": [
      "313/313 [==============================] - 2s 7ms/step - loss: 0.1577 - accuracy: 0.9796\n",
      "Test Loss: 0.15773269534111023\n",
      "Accuracy: 0.9796000123023987\n"
     ]
    }
   ],
   "source": [
    "loss,acc = model.evaluate(X_test,Y_test)\n",
    "print('Test Loss:',loss)\n",
    "print('Accuracy:',acc)"
   ]
  },
  {
   "cell_type": "code",
   "execution_count": 39,
   "metadata": {},
   "outputs": [],
   "source": [
    "import numpy as np\n",
    "def loss_plot(history):\n",
    "    train_acc = history.history['accuracy']\n",
    "    val_acc = history.history['val_accuracy']\n",
    "    plt.figure(figsize = (9,5))\n",
    "    plt.plot(np.arange(1,21),train_acc,marker = '*',label = 'Training Accuracy')\n",
    "    plt.plot(np.arange(1,21),val_acc,marker = 'o',label = 'Validation Accuracy')\n",
    "    plt.xlabel('Epochs')\n",
    "    plt.ylabel('Accuracy')\n",
    "    plt.title('Train/Validation Accuracy')\n",
    "    plt.legend()\n",
    "    plt.margins(0.02)\n",
    "    plt.show()\n",
    "    train_loss = history.history['loss']\n",
    "    val_loss = history.history['val_loss']\n",
    "    plt.figure(figsize=(9,5))\n",
    "    plt.plot(np.arange(1,21),train_loss,marker = '*',label = 'Training Loss')\n",
    "    plt.plot(np.arange(1,21),val_loss,marker = 'o',label = 'Validation Loss')\n",
    "    plt.xlabel('Epochs')\n",
    "    plt.ylabel('Loss')\n",
    "    plt.title('Train/Validation loss')\n",
    "    plt.legend()\n",
    "    plt.margins(0.02)\n",
    "    plt.show()"
   ]
  },
  {
   "cell_type": "code",
   "execution_count": 40,
   "metadata": {},
   "outputs": [
    {
     "data": {
      "image/png": "[encoded data removed]",
      "text/plain": [
       "<Figure size 648x360 with 1 Axes>"
      ]
     },
     "metadata": {
      "needs_background": "light"
     },
     "output_type": "display_data"
    },
    {
     "data": {
      "image/png": "[encoded data removed]",
      "text/plain": [
       "<Figure size 648x360 with 1 Axes>"
      ]
     },
     "metadata": {
      "needs_background": "light"
     },
     "output_type": "display_data"
    }
   ],
   "source": [
    "loss_plot(history)"
   ]
  },
  {
   "cell_type": "code",
   "execution_count": null,
   "metadata": {},
   "outputs": [],
   "source": []
  }
 ],
 "metadata": {
  "kernelspec": {
   "display_name": "Python 3",
   "language": "python",
   "name": "python3"
  },
  "language_info": {
   "codemirror_mode": {
    "name": "ipython",
    "version": 3
   },
   "file_extension": ".py",
   "mimetype": "text/x-python",
   "name": "python",
   "nbconvert_exporter": "python",
   "pygments_lexer": "ipython3",
   "version": "3.8.5"
  }
 },
 "nbformat": 4,
 "nbformat_minor": 4
}
